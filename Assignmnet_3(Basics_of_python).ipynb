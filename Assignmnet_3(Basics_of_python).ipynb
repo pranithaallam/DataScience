{
  "nbformat": 4,
  "nbformat_minor": 0,
  "metadata": {
    "colab": {
      "provenance": []
    },
    "kernelspec": {
      "name": "python3",
      "display_name": "Python 3"
    },
    "language_info": {
      "name": "python"
    }
  },
  "cells": [
    {
      "cell_type": "markdown",
      "source": [
        "# **1.Prime Numbers**"
      ],
      "metadata": {
        "id": "L_TWsi-3UlKl"
      }
    },
    {
      "cell_type": "code",
      "source": [
        "number=int(input(\"Enter a number:\"))#taking the input\n",
        "#condition for prime or not\n",
        "if number  <=1:\n",
        "  print(f\"{number} is not a prime number\")\n",
        "else:\n",
        "  for i in range(2,number):\n",
        "    if number%i==0:\n",
        "      print(f\"{number} is not a prime number\")\n",
        "      break\n",
        "    else:\n",
        "      print(f\"{number} is a prime number\")\n"
      ],
      "metadata": {
        "colab": {
          "base_uri": "https://localhost:8080/"
        },
        "id": "KiHZgLBqRzQI",
        "outputId": "5b745051-2cf5-4ba0-8c72-47cf8ba6d156"
      },
      "execution_count": 35,
      "outputs": [
        {
          "output_type": "stream",
          "name": "stdout",
          "text": [
            "Enter a number:5\n",
            "5 is a prime number\n",
            "5 is a prime number\n",
            "5 is a prime number\n"
          ]
        }
      ]
    },
    {
      "cell_type": "markdown",
      "source": [
        "# **2.Product of random numbers**"
      ],
      "metadata": {
        "id": "LJsAdtN0ZJ4u"
      }
    },
    {
      "cell_type": "code",
      "source": [
        "import random#to generate random numbers we need to import random library\n",
        "#generating random numbers\n",
        "num1=random.randint(1,20)\n",
        "num2=random.randint(1,20)\n",
        "\n",
        "print(num1)\n",
        "print(num2)\n",
        "user_answer=int(input(\"Enter the answer: \"))#asking the user to give answer\n",
        "sys_answer=num1*num2#multiplying the numbers\n",
        "#checking both answers are matching or not\n",
        "if user_answer==sys_answer:\n",
        "  print(\"Correct answer.Both are matching\")\n",
        "else:\n",
        "  print(\"Wrong answer.Both are not matching\")\n",
        "\n"
      ],
      "metadata": {
        "colab": {
          "base_uri": "https://localhost:8080/"
        },
        "id": "NoAMIp2YXL-Y",
        "outputId": "122bcd12-1d80-4897-ab9f-5ab59a7c4145"
      },
      "execution_count": 36,
      "outputs": [
        {
          "output_type": "stream",
          "name": "stdout",
          "text": [
            "12\n",
            "19\n",
            "Enter the answer: 228\n",
            "Correct answer.Both are matching\n"
          ]
        }
      ]
    },
    {
      "cell_type": "markdown",
      "source": [
        "# **3. Squares of even/odd numbers in range 100 to 200**"
      ],
      "metadata": {
        "id": "mqvXPhm5bzZH"
      }
    },
    {
      "cell_type": "code",
      "source": [
        "#even squares\n",
        "print(\"Squares of even numbers between 100 and 200\")\n",
        "\n",
        "for number in range(100,200):#setting the range\n",
        "  if number %2==0:#condition for even\n",
        "    print(f\"{number}^2={number**2}\")\n",
        "# #Code for odd numbers squares\n",
        "\n",
        "# print(\"Squares of odd numbers between 100 and 200\")\n",
        "\n",
        "# for number in range(100,200):\n",
        "#   if number %2!=0:\n",
        "#     print(f\"{number}^2={number**2}\")\n"
      ],
      "metadata": {
        "colab": {
          "base_uri": "https://localhost:8080/"
        },
        "id": "-KGKsrTmZzP0",
        "outputId": "ddae5377-8dab-4cb7-b8dc-6155ac7265fb"
      },
      "execution_count": 52,
      "outputs": [
        {
          "output_type": "stream",
          "name": "stdout",
          "text": [
            "Squares of even numbers between 100 and 200\n",
            "100^2=10000\n",
            "102^2=10404\n",
            "104^2=10816\n",
            "106^2=11236\n",
            "108^2=11664\n",
            "110^2=12100\n",
            "112^2=12544\n",
            "114^2=12996\n",
            "116^2=13456\n",
            "118^2=13924\n",
            "120^2=14400\n",
            "122^2=14884\n",
            "124^2=15376\n",
            "126^2=15876\n",
            "128^2=16384\n",
            "130^2=16900\n",
            "132^2=17424\n",
            "134^2=17956\n",
            "136^2=18496\n",
            "138^2=19044\n",
            "140^2=19600\n",
            "142^2=20164\n",
            "144^2=20736\n",
            "146^2=21316\n",
            "148^2=21904\n",
            "150^2=22500\n",
            "152^2=23104\n",
            "154^2=23716\n",
            "156^2=24336\n",
            "158^2=24964\n",
            "160^2=25600\n",
            "162^2=26244\n",
            "164^2=26896\n",
            "166^2=27556\n",
            "168^2=28224\n",
            "170^2=28900\n",
            "172^2=29584\n",
            "174^2=30276\n",
            "176^2=30976\n",
            "178^2=31684\n",
            "180^2=32400\n",
            "182^2=33124\n",
            "184^2=33856\n",
            "186^2=34596\n",
            "188^2=35344\n",
            "190^2=36100\n",
            "192^2=36864\n",
            "194^2=37636\n",
            "196^2=38416\n",
            "198^2=39204\n"
          ]
        }
      ]
    },
    {
      "cell_type": "markdown",
      "source": [
        "# **4.Word counter**"
      ],
      "metadata": {
        "id": "qnnnRjBLjds_"
      }
    },
    {
      "cell_type": "code",
      "source": [
        "import string\n",
        "from collections import Counter\n",
        "\n",
        "def word_counter(input_text):\n",
        "  translate_text=str.maketrans(string.punctuation,' '*len(string.punctuation))#replacing punctuation with spaces\n",
        "  cleaned_text=input_text.lower().translate(translate_text)#converting text to lowercase\n",
        "\n",
        "  words=cleaned_text.split()#spliting the cleaned text into words\n",
        "\n",
        "  word_count=Counter(words)#using counter to count occurences of each word\n",
        "\n",
        "  for word,count in word_count.items():#displaying word counter\n",
        "    print(f\"'{word}' : {count}\")"
      ],
      "metadata": {
        "id": "M027AfjUiLnp"
      },
      "execution_count": 38,
      "outputs": []
    },
    {
      "cell_type": "code",
      "source": [
        "#Calling the function with the sample input_text\n",
        "input_text= \"This is a sample text.This text will be used to demonstrate the word counter.\"\n",
        "word_counter(input_text)"
      ],
      "metadata": {
        "colab": {
          "base_uri": "https://localhost:8080/"
        },
        "id": "hpae5VqTinXF",
        "outputId": "250dc787-5530-426a-9cb0-db409ce86c0f"
      },
      "execution_count": 39,
      "outputs": [
        {
          "output_type": "stream",
          "name": "stdout",
          "text": [
            "'this' : 2\n",
            "'is' : 1\n",
            "'a' : 1\n",
            "'sample' : 1\n",
            "'text' : 2\n",
            "'will' : 1\n",
            "'be' : 1\n",
            "'used' : 1\n",
            "'to' : 1\n",
            "'demonstrate' : 1\n",
            "'the' : 1\n",
            "'word' : 1\n",
            "'counter' : 1\n"
          ]
        }
      ]
    },
    {
      "cell_type": "markdown",
      "source": [
        "# **5.Check for palindrome**"
      ],
      "metadata": {
        "id": "qv3PP3Qum6Xi"
      }
    },
    {
      "cell_type": "code",
      "source": [
        "import string\n",
        "def is_palindrome(input_string):\n",
        "  cleaned_string=' '.join(char.lower() for char in input_string if char.isalnum())#removing spaces and punctuations and convert the string to lowercase\n",
        "\n",
        "  return cleaned_string==cleaned_string[::-1]#checking if the cleaned string is the same forward and backward\n",
        "#calling the function with the sample input\n",
        "input_string=input(\"Enter the string: \")\n",
        "\n",
        "if is_palindrome(input_string):#condition to print palindrome or not\n",
        "  print(f\"{input_string} is a palindrome\")\n",
        "else:\n",
        "  print(f\"{input_string} is not a palindrome\")\n"
      ],
      "metadata": {
        "colab": {
          "base_uri": "https://localhost:8080/"
        },
        "id": "mOaP1fvrkUKH",
        "outputId": "0ca232dd-9195-48e5-dce3-94283707f7d6"
      },
      "execution_count": 40,
      "outputs": [
        {
          "output_type": "stream",
          "name": "stdout",
          "text": [
            "Enter the string: racecar\n",
            "racecar is a palindrome\n"
          ]
        }
      ]
    }
  ]
}
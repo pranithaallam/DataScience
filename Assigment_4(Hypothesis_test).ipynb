{
  "nbformat": 4,
  "nbformat_minor": 0,
  "metadata": {
    "colab": {
      "provenance": []
    },
    "kernelspec": {
      "name": "python3",
      "display_name": "Python 3"
    },
    "language_info": {
      "name": "python"
    }
  },
  "cells": [
    {
      "cell_type": "markdown",
      "source": [
        "# **Hypothesis Testing**"
      ],
      "metadata": {
        "id": "oX_EQSjaDBaX"
      }
    },
    {
      "cell_type": "code",
      "execution_count": 32,
      "metadata": {
        "id": "R76XONr7dEqY"
      },
      "outputs": [],
      "source": [
        "#importing required libraries\n",
        "import pandas as pd\n",
        "import numpy as np\n",
        "from scipy import stats"
      ]
    },
    {
      "cell_type": "code",
      "source": [
        "#given data\n",
        "sample_mean=3050\n",
        "theoretical_mean=4000\n",
        "sigma=5*25\n",
        "n=25\n",
        "#calculating test statistics(z_dist)\n",
        "z=(sample_mean-theoretical_mean)/(sigma/(n**0.5))\n",
        "print(\"Test statistics(z): \", z)\n",
        "#calculating critical value with alpha=0.05\n",
        "z_critical=stats.norm.ppf(1-0.05)\n",
        "print(\"Critical value: \",z_critical)\n",
        "#Decision to accept or reject(comparing test statistics and critical value)\n",
        "if z > z_critical:\n",
        "    print(\"Reject the null hypothesis.\")\n",
        "else:\n",
        "    print(\"Accept the null hypothesis.\")\n",
        "#Conclusion of decision for restaurant owner\n",
        "if z>z_critical:\n",
        "  print(\"There is strong evidence to support the restaurant owners' claim\")\n",
        "else:\n",
        "  print(\"There is no strong evidence to support the restaurant owners' claim\")\n"
      ],
      "metadata": {
        "colab": {
          "base_uri": "https://localhost:8080/"
        },
        "id": "FjBhDNBGjMmd",
        "outputId": "fa218758-78c9-4aef-fa7e-23c3cda556d9"
      },
      "execution_count": 33,
      "outputs": [
        {
          "output_type": "stream",
          "name": "stdout",
          "text": [
            "Test statistics(z):  -38.0\n",
            "Critical value:  1.6448536269514722\n",
            "Accept the null hypothesis.\n",
            "There is no strong evidence to support the restaurant owners' claim\n"
          ]
        }
      ]
    },
    {
      "cell_type": "markdown",
      "source": [
        "# **Chi-Square test**"
      ],
      "metadata": {
        "id": "EwAiFSB7ArYh"
      }
    },
    {
      "cell_type": "code",
      "source": [
        "#importing required packages\n",
        "from scipy.stats import chi2_contingency\n",
        "import pandas as pd"
      ],
      "metadata": {
        "id": "AI1lz54x1XkS"
      },
      "execution_count": 25,
      "outputs": []
    },
    {
      "cell_type": "code",
      "source": [
        "#given data\n",
        "#creating dictionary\n",
        "data = {'Smart Thermostat': [50, 80, 60, 30, 20],\n",
        "        'Smart light': [70, 100, 90, 50, 50],\n",
        "        'Total': [120, 180, 150, 80, 70]}"
      ],
      "metadata": {
        "id": "DsF8p1Iq8xPI"
      },
      "execution_count": 34,
      "outputs": []
    },
    {
      "cell_type": "code",
      "source": [
        "#converting dictionary into dataframe\n",
        "df=pd.DataFrame(data,\n",
        "             index=['Very Satisifed','Satisfied','Netural','Unsatisfied','Very Unsatisfied'], # row names\n",
        "             columns=['Smart Thermostat','Smart light','Total']) # column names"
      ],
      "metadata": {
        "id": "wrVX1oLY8nN5"
      },
      "execution_count": 35,
      "outputs": []
    },
    {
      "cell_type": "code",
      "source": [
        "#displaying the dataframe and also checking table with the given question same or not\n",
        "print(df)"
      ],
      "metadata": {
        "colab": {
          "base_uri": "https://localhost:8080/"
        },
        "id": "323W3hKy9cWI",
        "outputId": "73504237-d061-48ee-a1f4-5dd32c3586f5"
      },
      "execution_count": 36,
      "outputs": [
        {
          "output_type": "stream",
          "name": "stdout",
          "text": [
            "                  Smart Thermostat  Smart light  Total\n",
            "Very Satisifed                  50           70    120\n",
            "Satisfied                       80          100    180\n",
            "Netural                         60           90    150\n",
            "Unsatisfied                     30           50     80\n",
            "Very Unsatisfied                20           50     70\n"
          ]
        }
      ]
    },
    {
      "cell_type": "code",
      "source": [
        "chi2,p,dof,exp=chi2_contingency(df)# test statistic, p-value or here we can use critical value also(both are used for same purpose(accept or reject null hypothesis)),df,expected frequency\n",
        "#(H0:both variables are indepedendent).Ha: Both variables are dependent"
      ],
      "metadata": {
        "id": "WHxTjgFP-lKi"
      },
      "execution_count": 38,
      "outputs": []
    },
    {
      "cell_type": "code",
      "source": [
        "chi2_contingency(df)#displaying the values"
      ],
      "metadata": {
        "colab": {
          "base_uri": "https://localhost:8080/"
        },
        "id": "clK1XXQy_wu5",
        "outputId": "c2d24547-8714-40b9-c458-8cf2a6cb5495"
      },
      "execution_count": 40,
      "outputs": [
        {
          "output_type": "execute_result",
          "data": {
            "text/plain": [
              "Chi2ContingencyResult(statistic=5.638227513227513, pvalue=0.687682126979996, dof=8, expected_freq=array([[ 48.,  72., 120.],\n",
              "       [ 72., 108., 180.],\n",
              "       [ 60.,  90., 150.],\n",
              "       [ 32.,  48.,  80.],\n",
              "       [ 28.,  42.,  70.]]))"
            ]
          },
          "metadata": {},
          "execution_count": 40
        }
      ]
    },
    {
      "cell_type": "code",
      "source": [
        "a=0.05\n",
        "if p<a:\n",
        "  print(\"The p-value is large, so we reject null hypothesis. \")\n",
        "else:\n",
        "  print(\"The p-value is small, so we accept null hypothesis.\")\n",
        "\n",
        "if p<a:\n",
        "  print(\"There is strong evidence to suggest an association between device type and satisfaction level.\")\n",
        "else:\n",
        "  print(\"There is no strong evidence to suggest an association between device type and satisfaction level.\")"
      ],
      "metadata": {
        "colab": {
          "base_uri": "https://localhost:8080/"
        },
        "id": "PtN0fjeV_4aC",
        "outputId": "c22d4d6b-6868-4e2c-e180-e501fdcfa6fe"
      },
      "execution_count": 31,
      "outputs": [
        {
          "output_type": "stream",
          "name": "stdout",
          "text": [
            "The p-value is small, so we accept null hypothesis.\n",
            "There is no strong evidence to suggest an association between device type and satisfaction level.\n"
          ]
        }
      ]
    },
    {
      "cell_type": "code",
      "source": [
        "#so,here both are independent variables to each other"
      ],
      "metadata": {
        "id": "jfm0xE8QAXZ5"
      },
      "execution_count": 41,
      "outputs": []
    },
    {
      "cell_type": "code",
      "source": [],
      "metadata": {
        "id": "3HPo44iFD-UN"
      },
      "execution_count": null,
      "outputs": []
    }
  ]
}
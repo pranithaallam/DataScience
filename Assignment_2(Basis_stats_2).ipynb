{
  "nbformat": 4,
  "nbformat_minor": 0,
  "metadata": {
    "colab": {
      "provenance": []
    },
    "kernelspec": {
      "name": "python3",
      "display_name": "Python 3"
    },
    "language_info": {
      "name": "python"
    }
  },
  "cells": [
    {
      "cell_type": "code",
      "execution_count": 30,
      "metadata": {
        "id": "4WdDj3fOJJB8"
      },
      "outputs": [],
      "source": [
        "#importing libraries\n",
        "import pandas as pd\n",
        "import numpy as np\n",
        "from scipy import stats"
      ]
    },
    {
      "cell_type": "code",
      "source": [
        "#Given data\n",
        "data=[1.13, 1.55, 1.43, 0.92, 1.25, 1.36, 1.32, 0.85, 1.07, 1.48, 1.20, 1.33, 1.18, 1.22, 1.29]"
      ],
      "metadata": {
        "id": "-2BJVfGVJkfx"
      },
      "execution_count": 31,
      "outputs": []
    },
    {
      "cell_type": "markdown",
      "source": [
        "# **a. Build 99% Confidence Interval Using Sample Standard Deviation**"
      ],
      "metadata": {
        "id": "_2F1f9PCRbia"
      }
    },
    {
      "cell_type": "code",
      "source": [
        "data_t_dist=stats.t.interval(0.99,14,\n",
        "                             loc =np.mean(data),\n",
        "                             scale=np.std(data))\n",
        "print(data_t_dist)\n",
        "print(\"99% confidence interval using sample standard deviation:\",np.round(data_t_dist,4))"
      ],
      "metadata": {
        "colab": {
          "base_uri": "https://localhost:8080/"
        },
        "id": "9fmR0Y7SJuuC",
        "outputId": "72f68ab7-b2b8-4dbc-c928-811e8cf9f941"
      },
      "execution_count": 32,
      "outputs": [
        {
          "output_type": "stream",
          "name": "stdout",
          "text": [
            "(0.6831453079923472, 1.7941880253409859)\n",
            "99% confidence interval using sample standard deviation: [0.6831 1.7942]\n"
          ]
        }
      ]
    },
    {
      "cell_type": "code",
      "source": [
        "data_t_dist"
      ],
      "metadata": {
        "colab": {
          "base_uri": "https://localhost:8080/"
        },
        "id": "xhWp35-dKDsH",
        "outputId": "fa603281-426e-4300-8b52-9ff260152aef"
      },
      "execution_count": 33,
      "outputs": [
        {
          "output_type": "execute_result",
          "data": {
            "text/plain": [
              "(0.6831453079923472, 1.7941880253409859)"
            ]
          },
          "metadata": {},
          "execution_count": 33
        }
      ]
    },
    {
      "cell_type": "markdown",
      "source": [
        "# **Steps:**\n",
        "\n",
        "1.Importing required libraries.\n",
        "\n",
        "2.Loading dataset.\n",
        "\n",
        "3.Here I am using t-distribution because population standard deviation is uknown.\n",
        "\n",
        "4.And also if population standard       deviaiton is unkown we need to give degree of freedom with 99% confidence interval,sample mean and standard deviation.\n",
        "\n",
        "5.If we known the value of population standard deviation then we have to  use normal/z-distribution.\n",
        "\n",
        "6.So,the reason behind using t-distribution is population standard deviation is unknown."
      ],
      "metadata": {
        "id": "sO58y4v8QFP1"
      }
    },
    {
      "cell_type": "markdown",
      "source": [
        "# **b. Build 99% Confidence Interval Using Known Population Standard Deviation**"
      ],
      "metadata": {
        "id": "OdQL7q_RRiwB"
      }
    },
    {
      "cell_type": "code",
      "source": [
        "data_z_dist=stats.norm.interval(0.99,\n",
        "loc=np.mean(data),\n",
        "scale=np.std(data))\n",
        "print(data_z_dist)\n",
        "print('99% confidence interval is using known population standard deviation:' ,np.round(data_z_dist,4))"
      ],
      "metadata": {
        "colab": {
          "base_uri": "https://localhost:8080/"
        },
        "id": "-jIOwSjSLOlx",
        "outputId": "da99dff9-e39e-4556-8046-e5ad4ae01951"
      },
      "execution_count": 34,
      "outputs": [
        {
          "output_type": "stream",
          "name": "stdout",
          "text": [
            "(0.7579801399989947, 1.7193531933343384)\n",
            "99% confidence interval is using known population standard deviation: [0.758  1.7194]\n"
          ]
        }
      ]
    },
    {
      "cell_type": "code",
      "source": [
        "data_z_dist"
      ],
      "metadata": {
        "colab": {
          "base_uri": "https://localhost:8080/"
        },
        "id": "ZukcDoN1MqFB",
        "outputId": "40722baa-2519-4ef5-f738-ee9582fc1d6e"
      },
      "execution_count": 35,
      "outputs": [
        {
          "output_type": "execute_result",
          "data": {
            "text/plain": [
              "(0.7579801399989947, 1.7193531933343384)"
            ]
          },
          "metadata": {},
          "execution_count": 35
        }
      ]
    },
    {
      "cell_type": "code",
      "source": [],
      "metadata": {
        "id": "L0sDE_upPoY0"
      },
      "execution_count": 35,
      "outputs": []
    }
  ]
}